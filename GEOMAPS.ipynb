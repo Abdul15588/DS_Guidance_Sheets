{
 "cells": [
  {
   "cell_type": "markdown",
   "metadata": {},
   "source": [
    "### Geographical Visualization with Folium (geocoder plotly geojson and vincent)"
   ]
  },
  {
   "cell_type": "code",
   "execution_count": null,
   "metadata": {},
   "outputs": [],
   "source": [
    "import pandas as pd\n",
    "import matplotlib.pyplot as plt\n",
    "import numpy as np\n",
    "import seaborn as sns\n",
    "import cufflinks as cf\n",
    "from plotly.offline import plot,iplot,download_plotlyjs,init_notebook_mode\n",
    "cf.go_offline()\n",
    "init_notebook_mode(connected=True)\n",
    "%matplotlib inline\n",
    "print(\"Done\")"
   ]
  },
  {
   "cell_type": "code",
   "execution_count": null,
   "metadata": {},
   "outputs": [],
   "source": [
    "import folium "
   ]
  },
  {
   "cell_type": "markdown",
   "metadata": {},
   "source": [
    "# Creating Object of Folium "
   ]
  },
  {
   "cell_type": "code",
   "execution_count": null,
   "metadata": {},
   "outputs": [],
   "source": [
    "mapobj=folium.Map(location=[31.411930,73.108047],zoom_start=12) # Its Blank Canvass of Map"
   ]
  },
  {
   "cell_type": "code",
   "execution_count": null,
   "metadata": {},
   "outputs": [],
   "source": [
    "folium.Marker(location=[31.411930,73.108047],popup=\"Madina Town\",tooltip=\"First Target\").add_to(mapobj)\n",
    "mapobj"
   ]
  },
  {
   "cell_type": "code",
   "execution_count": null,
   "metadata": {},
   "outputs": [],
   "source": [
    "### DIFFERENT MODE OF MAP 'TILES'\n",
    "m=folium.Map(location=[31.450365,73.134964],zoom_start=12,tiles=\"Stamen Terrain\") \n",
    "#tiles=\"Stamen Terrain\",tiles=\"Stamen Toner\",\"\n",
    "m"
   ]
  },
  {
   "cell_type": "code",
   "execution_count": null,
   "metadata": {
    "scrolled": false
   },
   "outputs": [],
   "source": [
    "folium.Marker(location=[31.411930,73.108047],popup=\"Madina Town\",tooltip=\"First Target\",icon=folium.Icon(icon=\"university\")).add_to(m)\n",
    "m"
   ]
  },
  {
   "cell_type": "code",
   "execution_count": null,
   "metadata": {},
   "outputs": [],
   "source": [
    "folium.Marker(location=[31.411930,73.108047],popup=\"Madina Town\",tooltip=\"First Target\",icon=folium.Icon(icon=\"envelope\",color=\"red\")).add_to(m)\n",
    "m"
   ]
  },
  {
   "cell_type": "code",
   "execution_count": null,
   "metadata": {},
   "outputs": [],
   "source": [
    "import geocoder \n",
    "from geopy.geocoders import Nominatim\n",
    "geolocator = Nominatim()\n",
    "print(\"Done\")\n",
    ";"
   ]
  },
  {
   "cell_type": "code",
   "execution_count": null,
   "metadata": {},
   "outputs": [],
   "source": [
    "location = geolocator.geocode(\"Chakwal Punjab Pakistan\")\n",
    "latitude = location.latitude\n",
    "longitude = location.longitude\n",
    "longitude"
   ]
  },
  {
   "cell_type": "code",
   "execution_count": null,
   "metadata": {},
   "outputs": [],
   "source": [
    "#CUSTOMIZED LOGO "
   ]
  },
  {
   "cell_type": "code",
   "execution_count": null,
   "metadata": {},
   "outputs": [],
   "source": [
    "chakwal=folium.Map(location=[latitude,longitude],zoom_start=12) "
   ]
  },
  {
   "cell_type": "code",
   "execution_count": null,
   "metadata": {},
   "outputs": [],
   "source": [
    "locationLali=[32.9322934,72.8561658]\n",
    "iconlaali=folium.features.CustomIcon(\"Lll.jpg\",icon_size=(\"100,100\"))\n",
    "popuplaali=\"I Love You Laali\"\n",
    "folium.Marker(location=locationLali,tooltip=\"City Of My Queen\",popup=popuplaali,icon=iconlaali).add_to(chakwal)\n",
    "chakwal"
   ]
  },
  {
   "cell_type": "code",
   "execution_count": null,
   "metadata": {},
   "outputs": [],
   "source": [
    "latFSD=31.450365\n",
    "longFSD=73.134964\n",
    "fsd=folium.Map(location=[latFSD,longFSD],zoom_start=12) \n",
    "fsd"
   ]
  },
  {
   "cell_type": "code",
   "execution_count": null,
   "metadata": {},
   "outputs": [],
   "source": [
    "folium.Marker(location=[latFSD,longFSD],popup=\"Rainy\",tooltip=\"First Target\",icon=folium.Icon(icon=\"cloud\",color=\"purple\")).add_to(fsd)\n",
    "folium.Marker(location=[latFSD,longFSD],popup=\"Need attention\",tooltip=\"Second Target\",icon=folium.Icon(icon=\"leaf\",color=\"red\")).add_to(fsd)\n",
    "fsd"
   ]
  },
  {
   "cell_type": "code",
   "execution_count": null,
   "metadata": {},
   "outputs": [],
   "source": [
    "### INSERTING CIRCLES AS MARKERS"
   ]
  },
  {
   "cell_type": "code",
   "execution_count": null,
   "metadata": {},
   "outputs": [],
   "source": [
    "islLat=33.720001\n",
    "islLong=73.059998\n",
    "MAP=folium.Map(location=[islLat,islLong],zoom_start=5) \n",
    "marker=folium.CircleMarker(location=[islLat,islLong],radius=10,fill=True,color=\"blue\",fil_color='red')\n",
    "marker.add_to(MAP)\n",
    "MAP\n"
   ]
  },
  {
   "cell_type": "markdown",
   "metadata": {},
   "source": [
    "#### Another useful thing that we can do is We can increase the value Radius of The Circle\n",
    "##### on the basis of another column or data BY LOOPING THROUGH THE DATA "
   ]
  },
  {
   "cell_type": "markdown",
   "metadata": {},
   "source": [
    "# ___________________"
   ]
  },
  {
   "cell_type": "code",
   "execution_count": null,
   "metadata": {},
   "outputs": [],
   "source": [
    "m.save(\"map.html\") # Save the Report"
   ]
  },
  {
   "cell_type": "markdown",
   "metadata": {},
   "source": [
    "# Extracting Cordinates from geopy"
   ]
  },
  {
   "cell_type": "code",
   "execution_count": null,
   "metadata": {},
   "outputs": [],
   "source": [
    "location = geolocator.geocode(\"Karachi Pakistan\")\n",
    "latitude = location.latitude\n",
    "longitude = location.longitude\n",
    "location=[latitude,longitude] \n",
    "m=folium.Map(location=location,zoom_start=10)"
   ]
  },
  {
   "cell_type": "markdown",
   "metadata": {},
   "source": [
    "# Extract Coardinates from geojson and make boundary"
   ]
  },
  {
   "cell_type": "code",
   "execution_count": null,
   "metadata": {},
   "outputs": [],
   "source": [
    "geojson={\n",
    "  \"type\": \"FeatureCollection\",\n",
    "  \"features\": [\n",
    "    {\n",
    "      \"type\": \"Feature\",\n",
    "      \"properties\": {},\n",
    "      \"geometry\": {\n",
    "        \"type\": \"LineString\",\n",
    "        \"coordinates\": [\n",
    "          [\n",
    "            66.86553955078124,\n",
    "            24.8689944482603\n",
    "          ],\n",
    "          [\n",
    "            66.90948486328125,\n",
    "            24.8789616312\n",
    "          ],\n",
    "          [\n",
    "            66.94931030273438,\n",
    "            24.870240390088835\n",
    "          ],\n",
    "          [\n",
    "            66.9891357421875,\n",
    "            24.8727322360673\n",
    "          ],\n",
    "          [\n",
    "            67.00698852539062,\n",
    "            24.844072974931866\n",
    "          ],\n",
    "          [\n",
    "            67.027587890625,\n",
    "            24.831610355586918\n",
    "          ],\n",
    "          [\n",
    "            67.05093383789062,\n",
    "            24.78673454198888\n",
    "          ],\n",
    "          [\n",
    "            67.07839965820312,\n",
    "            24.761796517185815\n",
    "          ],\n",
    "          [\n",
    "            67.09762573242188,\n",
    "            24.75556122840033\n",
    "          ],\n",
    "          [\n",
    "            67.08526611328125,\n",
    "            24.789228068907338\n",
    "          ],\n",
    "          [\n",
    "            67.07839965820312,\n",
    "            24.819146481739068\n",
    "          ],\n",
    "          [\n",
    "            67.10586547851562,\n",
    "            24.810421023864638\n",
    "          ],\n",
    "          [\n",
    "            67.11273193359375,\n",
    "            24.787981311712517\n",
    "          ],\n",
    "          [\n",
    "            67.12783813476562,\n",
    "            24.78174733781577\n",
    "          ],\n",
    "          [\n",
    "            67.14431762695312,\n",
    "            24.787981311712517\n",
    "          ],\n",
    "          [\n",
    "            67.16217041015625,\n",
    "            24.799201675373848\n",
    "          ],\n",
    "          [\n",
    "            67.17178344726562,\n",
    "            24.84282676946321\n",
    "          ],\n",
    "          [\n",
    "            67.17178344726562,\n",
    "            24.891419479211137\n",
    "          ],\n",
    "          [\n",
    "            67.159423828125,\n",
    "            24.974854621062875\n",
    "          ],\n",
    "          [\n",
    "            67.13058471679686,\n",
    "            25.024639694914807\n",
    "          ],\n",
    "          [\n",
    "            67.07839965820312,\n",
    "            25.06072125231416\n",
    "          ],\n",
    "          [\n",
    "            67.00973510742188,\n",
    "            25.054501051619468\n",
    "          ],\n",
    "          [\n",
    "            66.94793701171875,\n",
    "            25.017173220003865\n",
    "          ],\n",
    "          [\n",
    "            66.8902587890625,\n",
    "            24.966140159912975\n",
    "          ],\n",
    "          [\n",
    "            66.86004638671875,\n",
    "            24.928785481052262\n",
    "          ],\n",
    "          [\n",
    "            66.84356689453125,\n",
    "            24.896402266558727\n",
    "          ],\n",
    "          [\n",
    "            66.84219360351562,\n",
    "            24.875224031804528\n",
    "          ],\n",
    "          [\n",
    "            66.87515258789062,\n",
    "            24.87148631935797\n",
    "          ]\n",
    "        ]\n",
    "      }\n",
    "    }\n",
    "  ]\n",
    "}"
   ]
  },
  {
   "cell_type": "code",
   "execution_count": null,
   "metadata": {},
   "outputs": [],
   "source": [
    "#Iplimenting Boundry in our Map\n",
    "overlay=geojson\n",
    "folium.GeoJson(geojson,name=\"Park\").add_to(m)"
   ]
  },
  {
   "cell_type": "markdown",
   "metadata": {},
   "source": [
    "# Making Ready Grapgh for Folium"
   ]
  },
  {
   "cell_type": "code",
   "execution_count": null,
   "metadata": {},
   "outputs": [],
   "source": [
    "#folium accepts JSON from of graphs\n",
    "import json\n",
    "import numpy as np\n",
    "import vincent\n",
    "\n",
    "scatter_points = {\n",
    "    'x': np.random.uniform(size=(100,)),\n",
    "    'y': np.random.uniform(size=(100,)),\n",
    "}\n",
    "\n",
    "# Let's create the vincent chart.\n",
    "scatter_chart = vincent.Scatter(scatter_points,\n",
    "                                iter_idx='x',\n",
    "                                width=600,\n",
    "                                height=300)\n",
    "\n",
    "# Let's convert it to JSON.\n",
    "scatter_json = scatter_chart.to_json()\n",
    "\n",
    "# Let's convert it to dict.\n",
    "scatter_dict = json.loads(scatter_json)"
   ]
  },
  {
   "cell_type": "markdown",
   "metadata": {},
   "source": [
    "# Adding Graphs on Popups"
   ]
  },
  {
   "cell_type": "code",
   "execution_count": null,
   "metadata": {
    "scrolled": true
   },
   "outputs": [],
   "source": [
    "\n",
    "m = folium.Map([43, -100], zoom_start=4)\n",
    "\n",
    "popup = folium.Popup()\n",
    "folium.Vega(scatter_chart, height=350, width=650).add_to(popup)\n",
    "folium.Marker([30, -120], popup=popup).add_to(m)\n",
    "\n",
    "# # Let's create a Vega popup based on scatter_json.\n",
    "# popup = folium.Popup(max_width=0)\n",
    "# folium.Vega(scatter_json, height=350, width=650).add_to(popup)\n",
    "# folium.Marker([30, -100], popup=popup).add_to(m)\n",
    "\n",
    "# # Let's create a Vega popup based on scatter_dict.\n",
    "# popup = folium.Popup(max_width=650)\n",
    "# folium.Vega(scatter_dict, height=350, width=650).add_to(popup)\n",
    "# folium.Marker([30, -80], popup=popup).add_to(m)\n",
    "m"
   ]
  },
  {
   "cell_type": "markdown",
   "metadata": {},
   "source": [
    "## Adding Tools to our 'fsd' Map"
   ]
  },
  {
   "cell_type": "code",
   "execution_count": null,
   "metadata": {},
   "outputs": [],
   "source": [
    "from folium import plugins\n",
    "\n",
    "# Adds tool to the top right\n",
    "from folium.plugins import MeasureControl\n",
    "fsd.add_child(MeasureControl())\n"
   ]
  },
  {
   "cell_type": "markdown",
   "metadata": {},
   "source": [
    "## Heatmaps for Geographical Visualization"
   ]
  },
  {
   "cell_type": "code",
   "execution_count": null,
   "metadata": {},
   "outputs": [],
   "source": [
    "df=pd.read_csv(\"Uber.csv\",index_col=False)"
   ]
  },
  {
   "cell_type": "code",
   "execution_count": null,
   "metadata": {},
   "outputs": [],
   "source": [
    "df.head()"
   ]
  },
  {
   "cell_type": "code",
   "execution_count": null,
   "metadata": {},
   "outputs": [],
   "source": [
    "df.drop(\"Unnamed: 0\",inplace=True,axis=1)"
   ]
  },
  {
   "cell_type": "code",
   "execution_count": null,
   "metadata": {},
   "outputs": [],
   "source": [
    "df.dropna(inplace=True)"
   ]
  },
  {
   "cell_type": "code",
   "execution_count": null,
   "metadata": {},
   "outputs": [],
   "source": [
    "df_ll=df[[\"Lat\",\"Lon\"]].head(200)\n"
   ]
  },
  {
   "cell_type": "code",
   "execution_count": null,
   "metadata": {},
   "outputs": [],
   "source": [
    "len(df_ll)"
   ]
  },
  {
   "cell_type": "code",
   "execution_count": null,
   "metadata": {},
   "outputs": [],
   "source": [
    "df_ll[\"count\"]=np.random.randint(10,200,200)\n",
    "df_ll.head()"
   ]
  },
  {
   "cell_type": "markdown",
   "metadata": {},
   "source": [
    "## Packing a List of List of Lat and Lon"
   ]
  },
  {
   "cell_type": "code",
   "execution_count": null,
   "metadata": {},
   "outputs": [],
   "source": [
    "heat_data=[]\n",
    "\n",
    "for i in df_ll.iterrows():\n",
    "    a=[i[1][0],i[1][1],i[1][2]]\n",
    "    heat_data.append(a)\n",
    "\n",
    "heat_data    "
   ]
  },
  {
   "cell_type": "markdown",
   "metadata": {},
   "source": [
    "# OR"
   ]
  },
  {
   "cell_type": "code",
   "execution_count": null,
   "metadata": {},
   "outputs": [],
   "source": [
    "heat_data = [[row['Lat'],row['Lon']] for index, row in df_ll.iterrows()]"
   ]
  },
  {
   "cell_type": "code",
   "execution_count": null,
   "metadata": {},
   "outputs": [],
   "source": [
    "# heat_data"
   ]
  },
  {
   "cell_type": "code",
   "execution_count": null,
   "metadata": {},
   "outputs": [],
   "source": [
    "from folium import plugins\n",
    "from folium.plugins import HeatMap\n",
    "NYlat=40.712776\n",
    "NYlon=-74.005974\n",
    "mapON=folium.Map(location=[NYlat,NYlon],zoom_start=10)\n",
    "mapON"
   ]
  },
  {
   "cell_type": "code",
   "execution_count": null,
   "metadata": {},
   "outputs": [],
   "source": [
    "HeatMap(heat_data).add_to(mapON)"
   ]
  },
  {
   "cell_type": "code",
   "execution_count": null,
   "metadata": {},
   "outputs": [],
   "source": [
    "mapON"
   ]
  },
  {
   "cell_type": "markdown",
   "metadata": {},
   "source": [
    "## Add A Layer"
   ]
  },
  {
   "cell_type": "code",
   "execution_count": null,
   "metadata": {},
   "outputs": [],
   "source": [
    "HeatMap(heat_data).add_to(folium.FeatureGroup(name='Heat Map').add_to(mapON))\n",
    "folium.LayerControl().add_to(mapON)"
   ]
  },
  {
   "cell_type": "code",
   "execution_count": null,
   "metadata": {},
   "outputs": [],
   "source": [
    "mapON"
   ]
  },
  {
   "cell_type": "markdown",
   "metadata": {},
   "source": [
    "# Chorepleth Visualization "
   ]
  },
  {
   "cell_type": "code",
   "execution_count": null,
   "metadata": {},
   "outputs": [],
   "source": [
    "import geopandas as gpd\n",
    "import descartes"
   ]
  },
  {
   "cell_type": "code",
   "execution_count": null,
   "metadata": {},
   "outputs": [],
   "source": [
    "### WE CAN GET GIS FILE FROM 'http://www.diva-gis.org/gdata'"
   ]
  },
  {
   "cell_type": "code",
   "execution_count": null,
   "metadata": {},
   "outputs": [],
   "source": [
    "fp='PAK_adm2.shp'"
   ]
  },
  {
   "cell_type": "code",
   "execution_count": null,
   "metadata": {},
   "outputs": [],
   "source": [
    "df1 = gpd.read_file(fp)\n",
    "df1.head()"
   ]
  },
  {
   "cell_type": "code",
   "execution_count": null,
   "metadata": {},
   "outputs": [],
   "source": [
    "df1.dtypes"
   ]
  },
  {
   "cell_type": "code",
   "execution_count": null,
   "metadata": {},
   "outputs": [],
   "source": [
    "plt.figure(figsize=(20,20))\n",
    "df1.plot()"
   ]
  },
  {
   "cell_type": "code",
   "execution_count": null,
   "metadata": {},
   "outputs": [],
   "source": [
    "plt.rcParams['figure.figsize'] = [50, 70] #height, width\n",
    "df1.plot()"
   ]
  },
  {
   "cell_type": "code",
   "execution_count": null,
   "metadata": {},
   "outputs": [],
   "source": [
    "df = pd.read_csv(\"PK COVID-19.csv\")\n",
    "df.head()\n",
    "# province.drop(\"Date\",axis=1,inplace=True)\n",
    "# province.drop(\"Travel_history\",axis=1,inplace=True)\n",
    "# province.drop(\"Recovered\",axis=1,inplace=True)\n",
    "# province.drop(\"City\",axis=1,inplace=True)\n",
    "# province.drop(\"Deaths\",axis=1,inplace=True)"
   ]
  },
  {
   "cell_type": "code",
   "execution_count": null,
   "metadata": {},
   "outputs": [],
   "source": [
    "df2 = province.groupby(\"City\").sum().reset_index()\n",
    "df2.dropna(inplace=True)"
   ]
  },
  {
   "cell_type": "markdown",
   "metadata": {},
   "source": [
    "## Lets Merge the Data of Covid with Our Locations data"
   ]
  },
  {
   "cell_type": "code",
   "execution_count": null,
   "metadata": {},
   "outputs": [],
   "source": [
    "data = df1.merge(df2, how='left', left_on=\"NAME_2\", right_on=\"City\")\n",
    "data.head(10)"
   ]
  },
  {
   "cell_type": "code",
   "execution_count": null,
   "metadata": {
    "scrolled": true
   },
   "outputs": [],
   "source": [
    "plt.clf()\n",
    "plt.rcParams['figure.figsize'] = [30, 50] #height, width\n",
    "data.plot(column=\"Deaths\",legend=True, cmap='OrRd' ) ##install mapclassify for schema"
   ]
  },
  {
   "cell_type": "code",
   "execution_count": null,
   "metadata": {},
   "outputs": [],
   "source": [
    " data.boundary.plot();"
   ]
  },
  {
   "cell_type": "code",
   "execution_count": null,
   "metadata": {},
   "outputs": [],
   "source": [
    "import mapclassify\n",
    "data.plot(column='Deaths', scheme='quantiles',legend=True);"
   ]
  },
  {
   "cell_type": "code",
   "execution_count": null,
   "metadata": {},
   "outputs": [],
   "source": []
  },
  {
   "cell_type": "markdown",
   "metadata": {},
   "source": [
    "### We can pull the data of venues and surroundings using  FOURSQUARE \n",
    "### or we can scrape the data from Google Maps for clustering or finding insights"
   ]
  },
  {
   "cell_type": "code",
   "execution_count": null,
   "metadata": {},
   "outputs": [],
   "source": []
  },
  {
   "cell_type": "code",
   "execution_count": null,
   "metadata": {},
   "outputs": [],
   "source": []
  }
 ],
 "metadata": {
  "kernelspec": {
   "display_name": "Python 3",
   "language": "python",
   "name": "python3"
  },
  "language_info": {
   "codemirror_mode": {
    "name": "ipython",
    "version": 3
   },
   "file_extension": ".py",
   "mimetype": "text/x-python",
   "name": "python",
   "nbconvert_exporter": "python",
   "pygments_lexer": "ipython3",
   "version": "3.7.3"
  }
 },
 "nbformat": 4,
 "nbformat_minor": 2
}
