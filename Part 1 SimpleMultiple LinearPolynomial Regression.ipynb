{
 "cells": [
  {
   "cell_type": "code",
   "execution_count": 101,
   "metadata": {},
   "outputs": [
    {
     "data": {
      "text/html": [
       "<div>\n",
       "<style scoped>\n",
       "    .dataframe tbody tr th:only-of-type {\n",
       "        vertical-align: middle;\n",
       "    }\n",
       "\n",
       "    .dataframe tbody tr th {\n",
       "        vertical-align: top;\n",
       "    }\n",
       "\n",
       "    .dataframe thead th {\n",
       "        text-align: right;\n",
       "    }\n",
       "</style>\n",
       "<table border=\"1\" class=\"dataframe\">\n",
       "  <thead>\n",
       "    <tr style=\"text-align: right;\">\n",
       "      <th></th>\n",
       "      <th>Feature1</th>\n",
       "      <th>Feature2</th>\n",
       "      <th>Feature3</th>\n",
       "      <th>Feature4</th>\n",
       "    </tr>\n",
       "  </thead>\n",
       "  <tbody>\n",
       "    <tr>\n",
       "      <td>count</td>\n",
       "      <td>100.000000</td>\n",
       "      <td>100.000000</td>\n",
       "      <td>100.000000</td>\n",
       "      <td>100.000000</td>\n",
       "    </tr>\n",
       "    <tr>\n",
       "      <td>mean</td>\n",
       "      <td>0.540543</td>\n",
       "      <td>0.675886</td>\n",
       "      <td>0.656680</td>\n",
       "      <td>0.946034</td>\n",
       "    </tr>\n",
       "    <tr>\n",
       "      <td>std</td>\n",
       "      <td>0.284134</td>\n",
       "      <td>0.303618</td>\n",
       "      <td>0.288093</td>\n",
       "      <td>0.599146</td>\n",
       "    </tr>\n",
       "    <tr>\n",
       "      <td>...</td>\n",
       "      <td>...</td>\n",
       "      <td>...</td>\n",
       "      <td>...</td>\n",
       "      <td>...</td>\n",
       "    </tr>\n",
       "    <tr>\n",
       "      <td>50%</td>\n",
       "      <td>0.551250</td>\n",
       "      <td>0.684550</td>\n",
       "      <td>0.659650</td>\n",
       "      <td>0.833450</td>\n",
       "    </tr>\n",
       "    <tr>\n",
       "      <td>75%</td>\n",
       "      <td>0.750450</td>\n",
       "      <td>0.915300</td>\n",
       "      <td>0.904700</td>\n",
       "      <td>1.291875</td>\n",
       "    </tr>\n",
       "    <tr>\n",
       "      <td>max</td>\n",
       "      <td>0.997700</td>\n",
       "      <td>1.183500</td>\n",
       "      <td>1.228600</td>\n",
       "      <td>2.214500</td>\n",
       "    </tr>\n",
       "  </tbody>\n",
       "</table>\n",
       "<p>8 rows × 4 columns</p>\n",
       "</div>"
      ],
      "text/plain": [
       "         Feature1    Feature2    Feature3    Feature4\n",
       "count  100.000000  100.000000  100.000000  100.000000\n",
       "mean     0.540543    0.675886    0.656680    0.946034\n",
       "std      0.284134    0.303618    0.288093    0.599146\n",
       "...           ...         ...         ...         ...\n",
       "50%      0.551250    0.684550    0.659650    0.833450\n",
       "75%      0.750450    0.915300    0.904700    1.291875\n",
       "max      0.997700    1.183500    1.228600    2.214500\n",
       "\n",
       "[8 rows x 4 columns]"
      ]
     },
     "execution_count": 101,
     "metadata": {},
     "output_type": "execute_result"
    }
   ],
   "source": [
    "# Data Wrangling\n",
    "import numpy as np\n",
    "import pandas as pd\n",
    "import seaborn as sns\n",
    "import matplotlib.pyplot as plt\n",
    "from scipy import stats\n",
    "df = pd.read_csv('/Users/youqizheng/Documents/CISC151/Assignments/Assignment 3/Assignment 3 attached files Mar 19, 2020 1026 AM/Regression_Dset.csv')\n",
    "df.describe()"
   ]
  },
  {
   "cell_type": "code",
   "execution_count": 102,
   "metadata": {},
   "outputs": [
    {
     "name": "stdout",
     "output_type": "stream",
     "text": [
      "The Pearson Correlation coefficient is 0.9713636968153045 the P-value is 5.624441928610212e-63\n"
     ]
    },
    {
     "data": {
      "image/png": "[encoded data removed]",
      "text/plain": [
       "<Figure size 432x288 with 1 Axes>"
      ]
     },
     "metadata": {
      "needs_background": "light"
     },
     "output_type": "display_data"
    }
   ],
   "source": [
    "# Data Exploration\n",
    "sns.regplot(x = 'Feature1', y = 'Feature4', data = df)\n",
    "pearson_coef, p_value = stats.pearsonr(df_1['Feature1'], df_1['Feature4'])\n",
    "print(\"The Pearson Correlation coefficient is\", pearson_coef, \"the P-value is\", p_value)"
   ]
  },
  {
   "cell_type": "markdown",
   "metadata": {},
   "source": [
    "# 1."
   ]
  },
  {
   "cell_type": "code",
   "execution_count": 103,
   "metadata": {
    "scrolled": true
   },
   "outputs": [
    {
     "name": "stdout",
     "output_type": "stream",
     "text": [
      "Report:\n",
      " The intercept (b0) is: -0.16115435525701827  and the coefficient (b1) is: [2.04828914]\n",
      "The new predicted values are: [0.45333239 0.86299021 1.47747695]\n"
     ]
    }
   ],
   "source": [
    "# (a) Run simple linear regression to predict y from x. \n",
    "# Report the linear model you found. Predict the value of y for new x values 0.3, 0.5, and 0.8.\n",
    "from sklearn.linear_model import LinearRegression\n",
    "\n",
    "# Defining X and y\n",
    "X = df_1[['Feature1']]\n",
    "y = df['Feature4']\n",
    "slr = LinearRegression()\n",
    "slr.fit(X,y)\n",
    "print(\"Report:\\n The intercept (b0) is:\", slr.intercept_, \" and the coefficient (b1) is:\", slr.coef_)\n",
    "\n",
    "# Predicting\n",
    "new_X = pd.DataFrame([0.3, 0.5, 0.8])\n",
    "print(\"The new predicted values are:\", slr.predict(new_X))\n",
    " "
   ]
  },
  {
   "cell_type": "code",
   "execution_count": 104,
   "metadata": {},
   "outputs": [
    {
     "name": "stdout",
     "output_type": "stream",
     "text": [
      "Report:\n",
      " The new intercept is: -0.15461612992060636  coefficient: [2.03924549]\n",
      "The estimated average r-square is  0.9390188243653638\n"
     ]
    },
    {
     "data": {
      "text/plain": [
       "<matplotlib.axes._subplots.AxesSubplot at 0x123a17910>"
      ]
     },
     "execution_count": 104,
     "metadata": {},
     "output_type": "execute_result"
    },
    {
     "data": {
      "image/png": "[encoded data removed]",
      "text/plain": [
       "<Figure size 432x288 with 1 Axes>"
      ]
     },
     "metadata": {
      "needs_background": "light"
     },
     "output_type": "display_data"
    }
   ],
   "source": [
    "# (b) Use cross-validation to predict generalization error. Describe your methodology.\n",
    "# Since the SLR from above was an in-sample evaluation, it's generalization error will be high.\n",
    "# By splitting the data and using cross-validation, we can minimize the generalization error and predict it using its\n",
    "# estimated average r-square score. \n",
    "from sklearn.model_selection import train_test_split \n",
    "\n",
    "# Train by splitting 80/20\n",
    "X_train, X_test, y_train, y_test = train_test_split(X, y, test_size=0.2, random_state = 1)\n",
    "slr_split = LinearRegression()\n",
    "slr_split.fit(X_train, y_train)\n",
    "print(\"Report:\\n The new intercept is:\", slr_split.intercept_, \" coefficient:\", slr_split.coef_)\n",
    "\n",
    "from sklearn.model_selection import cross_val_predict\n",
    "from sklearn.model_selection import cross_val_score\n",
    "# Cross-Validation with KFOLD method\n",
    "scores = cross_val_score(slr_split,X, y, cv = 5 )\n",
    "print(\"The estimated average r-square is \",np.mean(scores))\n",
    "y_CrossPredict = cross_val_predict(slr_split, X, y, cv = 5)\n",
    "ax1 = sns.distplot(y, hist = False, color = 'r', label = \"Actual Value\")\n",
    "sns.distplot(y_CrossPredict, hist = False, color = 'b', label = \" Predicted value\", ax = ax1)\n"
   ]
  },
  {
   "cell_type": "code",
   "execution_count": 105,
   "metadata": {},
   "outputs": [
    {
     "name": "stdout",
     "output_type": "stream",
     "text": [
      "For 2 degrees: [0.41935934 0.73387631 1.45387635]\n",
      "The intercept (b0) is: 0.1958084636126145  and the coefficient (b1) is: [0.         0.24872042 1.65483055]\n",
      "For 3 degrees: [0.44781255 0.73684673 1.42299721]\n",
      "The intercept (b0) is: 0.0941615794595746  and the coefficient (b1) is: [ 0.          1.23490955 -0.61865718  1.43915739]\n",
      "For 4 degrees: [0.44741953 0.73775077 1.42195828]\n",
      "The intercept (b0) is: 0.09765278013538192  and the coefficient (b1) is: [ 0.          1.17706286 -0.37614888  1.07694812  0.1757643 ]\n",
      "For 5 degrees: [0.44792417 0.73796781 1.42244813]\n",
      "The intercept (b0) is: 0.10403259858404257  and the coefficient (b1) is: [ 0.          1.02845533  0.54447293 -1.20924531  2.63094607 -0.95005287]\n"
     ]
    }
   ],
   "source": [
    "# (c) On the same data, run polynomial regression for p = 2; 3; 4; and 5. \n",
    "# Report polynomial models for each. \n",
    "# With each of these models, predict the value of y for x values of 0.3, for 0.5, and for 0.8.\n",
    "from sklearn.preprocessing import PolynomialFeatures\n",
    "\n",
    "from sklearn.preprocessing import PolynomialFeatures\n",
    "# Predictions for different degrees of p\n",
    "poly_reg = PolynomialFeatures(degree=2)\n",
    "X_poly = poly_reg.fit_transform(X)\n",
    "pol_reg = LinearRegression()\n",
    "pol_reg.fit(X_poly, y)\n",
    "print(\"For 2 degrees:\", pol_reg.predict(poly_reg.fit_transform([[0.3], [0.5], [0.8]])))\n",
    "print(\"The intercept (b0) is:\", pol_reg.intercept_, \" and the coefficient (b1) is:\", pol_reg.coef_)\n",
    "\n",
    "poly_reg = PolynomialFeatures(degree=3)\n",
    "X_poly = poly_reg.fit_transform(X)\n",
    "pol_reg = LinearRegression()\n",
    "pol_reg.fit(X_poly, y)\n",
    "print(\"For 3 degrees:\", pol_reg.predict(poly_reg.fit_transform([[0.3], [0.5], [0.8]])))\n",
    "print(\"The intercept (b0) is:\", pol_reg.intercept_, \" and the coefficient (b1) is:\", pol_reg.coef_)\n",
    "\n",
    "poly_reg = PolynomialFeatures(degree=4)\n",
    "X_poly = poly_reg.fit_transform(X)\n",
    "pol_reg = LinearRegression()\n",
    "pol_reg.fit(X_poly, y)\n",
    "print(\"For 4 degrees:\", pol_reg.predict(poly_reg.fit_transform([[0.3], [0.5], [0.8]])))\n",
    "print(\"The intercept (b0) is:\", pol_reg.intercept_, \" and the coefficient (b1) is:\", pol_reg.coef_)\n",
    "\n",
    "poly_reg = PolynomialFeatures(degree=5)\n",
    "X_poly = poly_reg.fit_transform(X)\n",
    "pol_reg = LinearRegression()\n",
    "pol_reg.fit(X_poly, y)\n",
    "print(\"For 5 degrees:\", pol_reg.predict(poly_reg.fit_transform([[0.3], [0.5], [0.8]])))\n",
    "print(\"The intercept (b0) is:\", pol_reg.intercept_, \" and the coefficient (b1) is:\", pol_reg.coef_)"
   ]
  },
  {
   "cell_type": "code",
   "execution_count": 106,
   "metadata": {},
   "outputs": [
    {
     "name": "stdout",
     "output_type": "stream",
     "text": [
      "[0.0052468092155772425, 0.004877158764973469, 0.005121408833395064, 0.0051823644306665554]\n"
     ]
    },
    {
     "data": {
      "text/html": [
       "<div>\n",
       "<style scoped>\n",
       "    .dataframe tbody tr th:only-of-type {\n",
       "        vertical-align: middle;\n",
       "    }\n",
       "\n",
       "    .dataframe tbody tr th {\n",
       "        vertical-align: top;\n",
       "    }\n",
       "\n",
       "    .dataframe thead th {\n",
       "        text-align: right;\n",
       "    }\n",
       "</style>\n",
       "<table border=\"1\" class=\"dataframe\">\n",
       "  <thead>\n",
       "    <tr style=\"text-align: right;\">\n",
       "      <th></th>\n",
       "      <th>Validation Error</th>\n",
       "    </tr>\n",
       "    <tr>\n",
       "      <th>Degree</th>\n",
       "      <th></th>\n",
       "    </tr>\n",
       "  </thead>\n",
       "  <tbody>\n",
       "    <tr>\n",
       "      <td>2</td>\n",
       "      <td>0.005247</td>\n",
       "    </tr>\n",
       "    <tr>\n",
       "      <td>3</td>\n",
       "      <td>0.004877</td>\n",
       "    </tr>\n",
       "    <tr>\n",
       "      <td>4</td>\n",
       "      <td>0.005121</td>\n",
       "    </tr>\n",
       "    <tr>\n",
       "      <td>5</td>\n",
       "      <td>0.005182</td>\n",
       "    </tr>\n",
       "  </tbody>\n",
       "</table>\n",
       "</div>"
      ],
      "text/plain": [
       "        Validation Error\n",
       "Degree                  \n",
       "2               0.005247\n",
       "3               0.004877\n",
       "4               0.005121\n",
       "5               0.005182"
      ]
     },
     "metadata": {},
     "output_type": "display_data"
    },
    {
     "data": {
      "image/png": "[encoded data removed]",
      "text/plain": [
       "<Figure size 720x360 with 1 Axes>"
      ]
     },
     "metadata": {
      "needs_background": "light"
     },
     "output_type": "display_data"
    }
   ],
   "source": [
    "# (d) Cross-validate to choose the best model. Describe how you did this.\n",
    "\n",
    "# To find the best model, I will perform a cross validation to find the model with the least validation error\n",
    "# and find the best Bias-Variance Tradeoff between the 4 models above. \n",
    "from sklearn.preprocessing import PolynomialFeatures\n",
    "transformers = [PolynomialFeatures(degree=deg)\n",
    "                for deg in range(2, 6)]\n",
    "X_train_polys = [transformer.fit_transform(X_train)\n",
    "                 for transformer in transformers]\n",
    "from sklearn.model_selection import KFold\n",
    "\n",
    "def mse_cost(y_pred, y_actual):\n",
    "    return np.mean((y_pred - y_actual) ** 2)\n",
    "\n",
    "def compute_CV_error(model, X_train, Y_train):\n",
    "    kf = KFold(n_splits=5)\n",
    "    validation_errors = []\n",
    "    \n",
    "    for train_idx, valid_idx in kf.split(X_train):\n",
    "        # split the data\n",
    "        split_X_train, split_X_valid = X_train[train_idx], X_train[valid_idx]\n",
    "        split_Y_train, split_Y_valid = Y_train.iloc[train_idx], Y_train.iloc[valid_idx]\n",
    "\n",
    "        # Fit the model on the training split\n",
    "        model.fit(split_X_train,split_Y_train)\n",
    "        \n",
    "        # Compute the RMSE on the validation split\n",
    "        error = mse_cost(split_Y_valid,model.predict(split_X_valid))\n",
    "        \n",
    "        validation_errors.append(error)\n",
    "    \n",
    "    #average validation errors\n",
    "    return np.mean(validation_errors)\n",
    "\n",
    "cross_validation_errors = [compute_CV_error(LinearRegression(fit_intercept=False), X_train_poly, y_train)\n",
    "                     for X_train_poly in X_train_polys]\n",
    "print(cross_validation_errors)\n",
    "\n",
    "cv_df = pd.DataFrame({'Validation Error': cross_validation_errors}, index=range(2, 6))\n",
    "cv_df.index.name = 'Degree'\n",
    "pd.options.display.max_rows = 20\n",
    "display(cv_df)\n",
    "pd.options.display.max_rows = 7\n",
    "\n",
    "plt.figure(figsize=(10, 5))\n",
    "\n",
    "plt.subplot(121)\n",
    "plt.plot(cv_df.index, cv_df['Validation Error'])\n",
    "plt.scatter(cv_df.index, cv_df['Validation Error'])\n",
    "plt.title('Validation Error vs. Polynomial Degree')\n",
    "plt.xlabel('Polynomial Degree')\n",
    "plt.ylabel('Validation Error');\n",
    "\n",
    "plt.tight_layout();\n"
   ]
  },
  {
   "cell_type": "code",
   "execution_count": 107,
   "metadata": {},
   "outputs": [
    {
     "name": "stdout",
     "output_type": "stream",
     "text": [
      "Degree 3 polynomial\n",
      "  Training error: 0.00440\n",
      "Validation error: 0.00488\n",
      "      Test error: 0.00744\n",
      "Since polynomial degree 3 generates the least generalization error, I will choose model #3.\n"
     ]
    }
   ],
   "source": [
    "# (d) Continued...\n",
    "best_trans = transformers[1]\n",
    "best_model = LinearRegression(fit_intercept=False).fit(X_train_polys[1], y_train)\n",
    "\n",
    "training_error = mse_cost(best_model.predict(X_train_polys[1]), y_train)\n",
    "validation_error = cross_validation_errors[1]\n",
    "test_error = mse_cost(best_model.predict(best_trans.transform(X_test)), y_test)\n",
    "\n",
    "print('Degree 3 polynomial')\n",
    "print(f'  Training error: {training_error:0.5f}')\n",
    "print(f'Validation error: {validation_error:0.5f}')\n",
    "print(f'      Test error: {test_error:0.5f}')\n",
    "print(\"Since polynomial degree 3 generates the least generalization error, I will choose model #3.\")"
   ]
  },
  {
   "cell_type": "markdown",
   "metadata": {},
   "source": [
    "# 2.  Now use Features 1,2, and 3 of the dataset as predictors and let Feature4 be the dependent variable y."
   ]
  },
  {
   "cell_type": "code",
   "execution_count": 108,
   "metadata": {},
   "outputs": [
    {
     "data": {
      "text/plain": [
       "<seaborn.axisgrid.PairGrid at 0x125662810>"
      ]
     },
     "execution_count": 108,
     "metadata": {},
     "output_type": "execute_result"
    },
    {
     "data": {
      "image/png": "[encoded data removed]",
      "text/plain": [
       "<Figure size 540x180 with 3 Axes>"
      ]
     },
     "metadata": {
      "needs_background": "light"
     },
     "output_type": "display_data"
    }
   ],
   "source": [
    "sns.pairplot(df, x_vars = ['Feature1','Feature2','Feature3'], y_vars = 'Feature4')"
   ]
  },
  {
   "cell_type": "code",
   "execution_count": 142,
   "metadata": {},
   "outputs": [
    {
     "name": "stdout",
     "output_type": "stream",
     "text": [
      "The new predicted values are: [0.43963273 0.97488992 1.68039533]\n",
      "Model intercept: -0.13603217690879954\n",
      "Model coefficient [ 2.28501601 -0.2912669   0.06666868]\n"
     ]
    }
   ],
   "source": [
    "# (a) Run linear regression and predict the value of y for new (x1,x2,x3) values (0.3; 0.4; 0.1), \n",
    "# for (0.5; 0.2; 0.4), and for (0.8; 0.2; 0.7).\n",
    "\n",
    "\n",
    "# Fitting the model\n",
    "mlr_X = df[['Feature1', 'Feature2', 'Feature3']]\n",
    "mlr_y = df['Feature4']\n",
    "\n",
    "mlr = LinearRegression()\n",
    "mlr.fit(mlr_X, mlr_y)\n",
    "\n",
    "# Predictions\n",
    "new_mlr = [[0.3, 0.4, 0.1], [0.5, 0.2, 0.4], [0.8, 0.2, 0.7]]\n",
    "print(\"The new predicted values are:\", mlr.predict(new_mlr))\n",
    "print(\"Model intercept:\", mlr.intercept_)\n",
    "print(\"Model coefficient\", mlr.coef_)\n"
   ]
  },
  {
   "cell_type": "code",
   "execution_count": 139,
   "metadata": {},
   "outputs": [
    {
     "name": "stdout",
     "output_type": "stream",
     "text": [
      "[0.022020053635138315, 0.006853312698773146, 0.006338295511977096, 0.009369771362171191, 0.07525052267588672, 4.8605223785013765]\n"
     ]
    },
    {
     "data": {
      "text/html": [
       "<div>\n",
       "<style scoped>\n",
       "    .dataframe tbody tr th:only-of-type {\n",
       "        vertical-align: middle;\n",
       "    }\n",
       "\n",
       "    .dataframe tbody tr th {\n",
       "        vertical-align: top;\n",
       "    }\n",
       "\n",
       "    .dataframe thead th {\n",
       "        text-align: right;\n",
       "    }\n",
       "</style>\n",
       "<table border=\"1\" class=\"dataframe\">\n",
       "  <thead>\n",
       "    <tr style=\"text-align: right;\">\n",
       "      <th></th>\n",
       "      <th>Validation Error</th>\n",
       "    </tr>\n",
       "    <tr>\n",
       "      <th>Degree</th>\n",
       "      <th></th>\n",
       "    </tr>\n",
       "  </thead>\n",
       "  <tbody>\n",
       "    <tr>\n",
       "      <td>1</td>\n",
       "      <td>0.022020</td>\n",
       "    </tr>\n",
       "    <tr>\n",
       "      <td>2</td>\n",
       "      <td>0.006853</td>\n",
       "    </tr>\n",
       "    <tr>\n",
       "      <td>3</td>\n",
       "      <td>0.006338</td>\n",
       "    </tr>\n",
       "    <tr>\n",
       "      <td>4</td>\n",
       "      <td>0.009370</td>\n",
       "    </tr>\n",
       "    <tr>\n",
       "      <td>5</td>\n",
       "      <td>0.075251</td>\n",
       "    </tr>\n",
       "    <tr>\n",
       "      <td>6</td>\n",
       "      <td>4.860522</td>\n",
       "    </tr>\n",
       "  </tbody>\n",
       "</table>\n",
       "</div>"
      ],
      "text/plain": [
       "        Validation Error\n",
       "Degree                  \n",
       "1               0.022020\n",
       "2               0.006853\n",
       "3               0.006338\n",
       "4               0.009370\n",
       "5               0.075251\n",
       "6               4.860522"
      ]
     },
     "metadata": {},
     "output_type": "display_data"
    },
    {
     "data": {
      "image/png": "[encoded data removed]",
      "text/plain": [
       "<Figure size 720x360 with 1 Axes>"
      ]
     },
     "metadata": {
      "needs_background": "light"
     },
     "output_type": "display_data"
    }
   ],
   "source": [
    "# (b) Regularize your model to avoid over-fitting and apply polynomial regression. \n",
    "# Use cross-validation to choose the best hyperparameter value (e.g., alpha) to build your model.\n",
    "\n",
    "# Regularizing model for best parameter and finding best model\n",
    "transformers = [PolynomialFeatures(degree=deg)\n",
    "                for deg in range(1, 7)]\n",
    "X_train_polys = [transformer.fit_transform(mlr_X)\n",
    "                 for transformer in transformers]\n",
    "from sklearn.model_selection import KFold\n",
    "\n",
    "def mse_cost(y_pred, y_actual):\n",
    "    return np.mean((y_pred - y_actual) ** 2)\n",
    "\n",
    "def compute_CV_error(mlr, mlr_X, mlr_y):\n",
    "    kf = KFold(n_splits=10)\n",
    "    validation_errors = []\n",
    "    \n",
    "    for train_idx, valid_idx in kf.split(mlr_X):\n",
    "        # split the data\n",
    "        split_X_train, split_X_valid = mlr_X[train_idx], mlr_X[valid_idx]\n",
    "        split_Y_train, split_Y_valid = mlr_y.iloc[train_idx], mlr_y.iloc[valid_idx]\n",
    "\n",
    "        # Fit the model on the training split\n",
    "        mlr.fit(split_X_train,split_Y_train)\n",
    "        \n",
    "        # Compute the RMSE on the validation split\n",
    "        error = mse_cost(split_Y_valid,mlr.predict(split_X_valid))\n",
    "        \n",
    "        validation_errors.append(error)\n",
    "    \n",
    "    #average validation errors\n",
    "    return np.mean(validation_errors)\n",
    "\n",
    "cross_validation_errors = [compute_CV_error(LinearRegression(fit_intercept=False), X_train_poly, mlr_y)\n",
    "                     for X_train_poly in X_train_polys]\n",
    "print(cross_validation_errors)\n",
    "\n",
    "cv_df = pd.DataFrame({'Validation Error': cross_validation_errors}, index=range(1, 7))\n",
    "cv_df.index.name = 'Degree'\n",
    "pd.options.display.max_rows = 20\n",
    "display(cv_df)\n",
    "pd.options.display.max_rows = 7\n",
    "\n",
    "plt.figure(figsize=(10, 5))\n",
    "\n",
    "plt.subplot(121)\n",
    "plt.plot(cv_df.index, cv_df['Validation Error'])\n",
    "plt.scatter(cv_df.index, cv_df['Validation Error'])\n",
    "plt.title('Validation Error vs. Polynomial Degree')\n",
    "plt.xlabel('Polynomial Degree')\n",
    "plt.ylabel('Validation Error');\n",
    "\n",
    "plt.tight_layout();\n",
    "\n",
    "\n",
    "\n",
    "\n"
   ]
  },
  {
   "cell_type": "code",
   "execution_count": 144,
   "metadata": {},
   "outputs": [
    {
     "data": {
      "text/plain": [
       "LinearRegression(copy_X=True, fit_intercept=True, n_jobs=None, normalize=False)"
      ]
     },
     "execution_count": 144,
     "metadata": {},
     "output_type": "execute_result"
    }
   ],
   "source": [
    "# (b) continued..\n",
    "# choosing order \n",
    "poly = PolynomialFeatures(4)\n",
    "\n",
    "# convert to be used further to linear regression\n",
    "X_transform = poly.fit_transform(X_train)\n",
    "\n",
    "# fit this to Linear Regressor\n",
    "mlr.fit(X_transform,y_train) \n"
   ]
  },
  {
   "cell_type": "code",
   "execution_count": null,
   "metadata": {},
   "outputs": [],
   "source": []
  }
 ],
 "metadata": {
  "kernelspec": {
   "display_name": "Python 3",
   "language": "python",
   "name": "python3"
  },
  "language_info": {
   "codemirror_mode": {
    "name": "ipython",
    "version": 3
   },
   "file_extension": ".py",
   "mimetype": "text/x-python",
   "name": "python",
   "nbconvert_exporter": "python",
   "pygments_lexer": "ipython3",
   "version": "3.7.3"
  }
 },
 "nbformat": 4,
 "nbformat_minor": 2
}
